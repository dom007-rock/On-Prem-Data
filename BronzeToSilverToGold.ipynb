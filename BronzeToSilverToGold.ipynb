{
 "cells": [
  {
   "cell_type": "code",
   "execution_count": 0,
   "metadata": {
    "application/vnd.databricks.v1+cell": {
     "cellMetadata": {
      "byteLimit": 2048000,
      "rowLimit": 10000
     },
     "collapsed": true,
     "inputWidgets": {},
     "nuid": "022fee17-163d-427e-a41e-8156a1ee2648",
     "showTitle": false,
     "title": ""
    }
   },
   "outputs": [
    {
     "data": {
      "text/plain": [
       "[FileInfo(path='dbfs:/mnt/bronze/SalesLT/Address/', name='Address/', size=0, modificationTime=1727245580000),\n",
       " FileInfo(path='dbfs:/mnt/bronze/SalesLT/Customer/', name='Customer/', size=0, modificationTime=1727245589000),\n",
       " FileInfo(path='dbfs:/mnt/bronze/SalesLT/CustomerAddress/', name='CustomerAddress/', size=0, modificationTime=1727245589000),\n",
       " FileInfo(path='dbfs:/mnt/bronze/SalesLT/Product/', name='Product/', size=0, modificationTime=1727245581000),\n",
       " FileInfo(path='dbfs:/mnt/bronze/SalesLT/ProductCategory/', name='ProductCategory/', size=0, modificationTime=1727245581000),\n",
       " FileInfo(path='dbfs:/mnt/bronze/SalesLT/ProductDescription/', name='ProductDescription/', size=0, modificationTime=1727245606000),\n",
       " FileInfo(path='dbfs:/mnt/bronze/SalesLT/ProductModel/', name='ProductModel/', size=0, modificationTime=1727245606000),\n",
       " FileInfo(path='dbfs:/mnt/bronze/SalesLT/ProductModelProductDescription/', name='ProductModelProductDescription/', size=0, modificationTime=1727245581000),\n",
       " FileInfo(path='dbfs:/mnt/bronze/SalesLT/SalesOrderDetail/', name='SalesOrderDetail/', size=0, modificationTime=1727245589000),\n",
       " FileInfo(path='dbfs:/mnt/bronze/SalesLT/SalesOrderHeader/', name='SalesOrderHeader/', size=0, modificationTime=1727245606000)]"
      ]
     },
     "execution_count": 14,
     "metadata": {},
     "output_type": "execute_result"
    }
   ],
   "source": [
    "# Mounting the Bronze Zone and Checking all the files in it. \n",
    "dbutils.fs.ls(\"/mnt/bronze/SalesLT/\")"
   ]
  },
  {
   "cell_type": "code",
   "execution_count": 0,
   "metadata": {
    "application/vnd.databricks.v1+cell": {
     "cellMetadata": {
      "byteLimit": 2048000,
      "rowLimit": 10000
     },
     "inputWidgets": {},
     "nuid": "73047080-88f1-4138-be1d-35a536badcc9",
     "showTitle": false,
     "title": ""
    }
   },
   "outputs": [
    {
     "data": {
      "text/plain": [
       "[FileInfo(path='dbfs:/mnt/silver/SalesLT/Address/', name='Address/', size=0, modificationTime=1727760039000),\n",
       " FileInfo(path='dbfs:/mnt/silver/SalesLT/Customer/', name='Customer/', size=0, modificationTime=1727760056000),\n",
       " FileInfo(path='dbfs:/mnt/silver/SalesLT/CustomerAddress/', name='CustomerAddress/', size=0, modificationTime=1727760060000),\n",
       " FileInfo(path='dbfs:/mnt/silver/SalesLT/Product/', name='Product/', size=0, modificationTime=1727760064000),\n",
       " FileInfo(path='dbfs:/mnt/silver/SalesLT/ProductCategory/', name='ProductCategory/', size=0, modificationTime=1727760067000),\n",
       " FileInfo(path='dbfs:/mnt/silver/SalesLT/ProductDescription/', name='ProductDescription/', size=0, modificationTime=1727760070000),\n",
       " FileInfo(path='dbfs:/mnt/silver/SalesLT/ProductModel/', name='ProductModel/', size=0, modificationTime=1727760073000),\n",
       " FileInfo(path='dbfs:/mnt/silver/SalesLT/ProductModelProductDescription/', name='ProductModelProductDescription/', size=0, modificationTime=1727760076000),\n",
       " FileInfo(path='dbfs:/mnt/silver/SalesLT/SalesOrderDetail/', name='SalesOrderDetail/', size=0, modificationTime=1727760079000),\n",
       " FileInfo(path='dbfs:/mnt/silver/SalesLT/SalesOrderHeader/', name='SalesOrderHeader/', size=0, modificationTime=1727760082000)]"
      ]
     },
     "execution_count": 15,
     "metadata": {},
     "output_type": "execute_result"
    }
   ],
   "source": [
    "# Mounting the Silver Zone and Checking all the files in it. \n",
    "dbutils.fs.ls(\"/mnt/silver/SalesLT/\")"
   ]
  },
  {
   "cell_type": "markdown",
   "metadata": {
    "application/vnd.databricks.v1+cell": {
     "cellMetadata": {
      "byteLimit": 2048000,
      "rowLimit": 10000
     },
     "inputWidgets": {},
     "nuid": "3b1a3eef-3b9e-44b7-9d82-e10c658e5c8a",
     "showTitle": false,
     "title": ""
    }
   },
   "source": [
    "Doing the same for all Tables where Date is ther with Timestamp"
   ]
  },
  {
   "cell_type": "code",
   "execution_count": 0,
   "metadata": {
    "application/vnd.databricks.v1+cell": {
     "cellMetadata": {
      "byteLimit": 2048000,
      "rowLimit": 10000
     },
     "inputWidgets": {},
     "nuid": "d4e864eb-f514-4247-b1d7-2edf36d1bc0a",
     "showTitle": false,
     "title": ""
    }
   },
   "outputs": [],
   "source": [
    "# Importing all the packages \n",
    "from pyspark.sql.functions import col, regexp_replace, from_utc_timestamp, date_format, round, when, lit, isnan\n",
    "from pyspark.sql.types import TimestampType"
   ]
  },
  {
   "cell_type": "code",
   "execution_count": 0,
   "metadata": {
    "application/vnd.databricks.v1+cell": {
     "cellMetadata": {
      "byteLimit": 2048000,
      "rowLimit": 10000
     },
     "inputWidgets": {},
     "nuid": "4b25d82f-729a-4789-9e7b-b69342620bd8",
     "showTitle": false,
     "title": ""
    }
   },
   "outputs": [],
   "source": [
    "# Performining all the transformations\n",
    "\n",
    "# List of columns to drop\n",
    "col_drop_list = ['NameStyle', 'PasswordHash', 'PasswordSalt', 'rowguid', 'ThumbNailPhoto', 'ThumbnailPhotoFileName']\n",
    "\n",
    "# Function to process each table\n",
    "def process_table(df):\n",
    "    # Drop unnecessary columns\n",
    "    for col_name in col_drop_list:\n",
    "        if col_name in df.columns:\n",
    "            df = df.drop(col_name)\n",
    "\n",
    "    # Rename columns (convert CamelCase to snake_case)\n",
    "    for old_col in df.columns:\n",
    "        new_col_name = \"\".join([\"_\" + char if char.isupper() and not old_col[i-1].isupper() else char for i, char in enumerate(old_col)]).lstrip(\"_\")\n",
    "        df = df.withColumnRenamed(old_col, new_col_name)\n",
    "    \n",
    "    # Format timestamp and date columns\n",
    "    for col_name in df.columns:\n",
    "        if \"date\" in col_name.lower():\n",
    "            df = df.withColumn(col_name, date_format(from_utc_timestamp(df[col_name].cast(TimestampType()), 'UTC'), 'yyyy-MM-dd'))\n",
    "    \n",
    "    # Round decimal columns to 2 decimal places\n",
    "    for col_name, col_type in df.dtypes:\n",
    "        if \"decimal\" in col_type:\n",
    "            df = df.withColumn(col_name, round(df[col_name], 2))\n",
    "\n",
    "    # Check for null values and replace them based on column type\n",
    "    for col_name, col_type in df.dtypes:\n",
    "        if col_type == 'boolean':\n",
    "            df = df.withColumn(col_name, when(col(col_name).isNull(), lit(False)).otherwise(col(col_name)))\n",
    "        elif col_type in ['int', 'bigint', 'double', 'float', 'long', 'short']:\n",
    "            df = df.withColumn(col_name, when(col(col_name).isNull() | isnan(col(col_name)), lit(0)).otherwise(col(col_name)))\n",
    "        elif col_type == 'string':\n",
    "            df = df.withColumn(col_name, when(col(col_name).isNull(), lit(\"NA\")).otherwise(col(col_name)))\n",
    "        elif col_type in ['timestamp', 'date']:\n",
    "            df = df.withColumn(col_name, when(col(col_name).isNull(), lit(None)).otherwise(col(col_name)))\n",
    "    \n",
    "    return df\n",
    "\n"
   ]
  },
  {
   "cell_type": "code",
   "execution_count": 0,
   "metadata": {
    "application/vnd.databricks.v1+cell": {
     "cellMetadata": {
      "byteLimit": 2048000,
      "rowLimit": 10000
     },
     "inputWidgets": {},
     "nuid": "f3ee6599-db69-400d-8c2c-b270ab19c50b",
     "showTitle": false,
     "title": ""
    }
   },
   "outputs": [],
   "source": [
    "# Get list of table names from the bronze zone\n",
    "# First we will create a list of all the tables in our bronze zone\n",
    "table_names = []\n",
    "# We will iterate through all the folder and load all the table name to the list\n",
    "for i in dbutils.fs.ls('mnt/bronze/SalesLT'):\n",
    "    table_names.append(i.name.split('/')[0])\n",
    "\n",
    "# Process each table\n",
    "for table_name in table_names:\n",
    "    # Define the path for the table\n",
    "    path = f'/mnt/bronze/SalesLT/{table_name}/{table_name}.parquet'\n",
    "    \n",
    "    # Load the DataFrame\n",
    "    df = spark.read.format('parquet').load(path)\n",
    "    \n",
    "    # Process the table\n",
    "    df_processed = process_table(df)\n",
    "    \n",
    "    # Write the processed DataFrame back to the bronze zone or another zone\n",
    "    output_path = f'/mnt/silver/SalesLT/' + table_name +'/'\n",
    "    df_processed.write.format('delta').mode('overwrite').save(output_path)\n",
    "\n",
    "    # Write the cured data to the gold zone\n",
    "    output_path = f'/mnt/gold/SalesLT/' + table_name +'/'\n",
    "    df_processed.write.format('delta').mode('overwrite').save(output_path)"
   ]
  }
 ],
 "metadata": {
  "application/vnd.databricks.v1+notebook": {
   "dashboards": [],
   "environmentMetadata": null,
   "language": "python",
   "notebookMetadata": {
    "pythonIndentUnit": 4
   },
   "notebookName": "BronzeToSilverToGold",
   "widgets": {}
  },
  "language_info": {
   "name": "python"
  }
 },
 "nbformat": 4,
 "nbformat_minor": 0
}
